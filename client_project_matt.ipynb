{
 "cells": [
  {
   "cell_type": "code",
   "execution_count": null,
   "metadata": {},
   "outputs": [],
   "source": [
    "import requests\n",
    "import pandas as pd\n",
    "import os\n",
    "import fastparquet\n",
    "import datetime as dt\n",
    "import time\n",
    "import snappy"
   ]
  },
  {
   "cell_type": "code",
   "execution_count": null,
   "metadata": {},
   "outputs": [],
   "source": [
    "#def is_time_between(begin_time, end_time, check_time=None):\n",
    "    # If check time is not given, default to current UTC time\n",
    "    #check_time = dt.datetime.now()\n",
    "    #if begin_time < end_time:\n",
    "        #return check_time >= begin_time and check_time <= end_time\n",
    "    #else: # crosses midnight\n",
    "        #return check_time >= begin_time or check_time <= end_time\n",
    "\n",
    "# Original test case from OP\n",
    "#is_time_between(time(10,30), time(16,30))\n",
    "\n",
    "# Test case when range crosses midnight\n",
    "#is_time_between(time(22,0), time(4,00))"
   ]
  },
  {
   "cell_type": "code",
   "execution_count": null,
   "metadata": {},
   "outputs": [],
   "source": [
    "# function to get vehicle locations by route\n",
    "def get_vehicles_byroute(routenum, timestamp):\n",
    "    #make request with route number\n",
    "    resp = requests.get('http://api.metro.net/agencies/lametro/routes/%s/vehicles/' % routenum)\n",
    "    \n",
    "     #check if call is successful\n",
    "    if resp.status_code != requests.codes.ok:\n",
    "        print('API call unsuccessful')\n",
    "        resp.raise_for_status()\n",
    "        return\n",
    "    \n",
    "    #store json response as data\n",
    "    data = resp.json()\n",
    "    \n",
    "    #convert json to dataframe\n",
    "    routedata = pd.DataFrame(data['items'])\n",
    "    \n",
    "    #get current time\n",
    "    now = dt.datetime.now()\n",
    "    \n",
    "    #add current time to as a value to dataframe \"call_time\"\n",
    "    routedata['call_time'] = now\n",
    "    \n",
    "    #index with MultiIndex\n",
    "    oldidx = routedata.index.to_frame()\n",
    "    oldidx.insert(0, 'route', routenum)\n",
    "    oldidx.insert(1, 'comparison_time', timestamp)\n",
    "    oldidx.pop(0)\n",
    "    routedata.index=(pd.MultiIndex.from_frame(oldidx))\n",
    "\n",
    "    return routedata"
   ]
  },
  {
   "cell_type": "code",
   "execution_count": null,
   "metadata": {},
   "outputs": [],
   "source": [
    "#call multiple routes\n",
    "def get_vehicles_byroutes(*routes, delay):\n",
    "    queries = 0\n",
    "    timestamp = dt.datetime.now()\n",
    "    single_time_df = pd.DataFrame()\n",
    "    \n",
    "    for route in routes:\n",
    "        single_time_df = single_time_df.append(\n",
    "                        get_vehicles_byroute(routenum=route, timestamp=timestamp), sort=True)\n",
    "        time.sleep(delay)\n",
    "        queries += 1\n",
    "    \n",
    "    return [queries, single_time_df]"
   ]
  },
  {
   "cell_type": "code",
   "execution_count": null,
   "metadata": {},
   "outputs": [],
   "source": [
    "def get_vehicles_days(*routes, days=1, delay=3, interval=120):\n",
    "\n",
    "    #create route name string for file output\n",
    "    route_names = 'routes_'\n",
    "    for route in routes:\n",
    "        route_names += str(route) + '-'\n",
    "    \n",
    "    #make output directory, if necessary\n",
    "    cwd = os.getcwd()\n",
    "    if not os.path.exists(\"%s/data/processed\" % cwd):\n",
    "        os.makedirs(\"%s/data/processed\" % cwd)\n",
    "    \n",
    "    #create datetime objects for now and days days from now\n",
    "    now = dt.datetime.now()\n",
    "    then = now + dt.timedelta(days=days)\n",
    "    \n",
    "    #columns = (['first_rt_call_time'] + list(map(str, list(routes))))\n",
    "    bigdf = pd.DataFrame()\n",
    "    queries = 0\n",
    "    fnames = []\n",
    "    \n",
    "    #loop will end when current time passes target \n",
    "    while now < then:\n",
    "        \n",
    "        \n",
    "        queries_df = get_vehicles_byroutes(*routes, delay=delay)\n",
    "        queries += queries_df[0]\n",
    "        bigdf = bigdf.append(queries_df[1])\n",
    "        \n",
    "        #request data every 2 minutes using delay, compensated\n",
    "        sleep_time = interval - len(routes) * delay\n",
    "        \n",
    "        time.sleep(sleep_time)\n",
    "        \n",
    "        #update current time\n",
    "        now = dt.datetime.now()\n",
    "        \n",
    "        #write/manage filenames\n",
    "\n",
    "        fnames += [route_names + '_' + now.strftime('%Y-%m-%d-%H-%M') + '.parquet']\n",
    "        bigdf.to_parquet('{}/data/processed/{}'.format(cwd, fnames[-1])) \n",
    "        if len(fnames) > 1 and os.path.isfile('{}/data/processed/{}'.format(cwd, fnames[-2])):\n",
    "            os.remove('{}/data/processed/{}'.format(cwd, fnames[-2]))\n",
    "            fnames = fnames[-1:]\n",
    "\n",
    "    with open('{}/data/log.txt'.format(cwd), mode = 'w') as log:\n",
    "        log.write('total queries executed:{}'.format(queries))\n",
    "    \n",
    "    return bigdf"
   ]
  },
  {
   "cell_type": "code",
   "execution_count": null,
   "metadata": {},
   "outputs": [],
   "source": [
    "#test run with two minute delays\n",
    "\n",
    "df = get_vehicles_days(20, 720, 33, 733, 204, 754, 4, 704)"
   ]
  }
 ],
 "metadata": {
  "kernelspec": {
   "display_name": "Python 3",
   "language": "python",
   "name": "python3"
  },
  "language_info": {
   "codemirror_mode": {
    "name": "ipython",
    "version": 3
   },
   "file_extension": ".py",
   "mimetype": "text/x-python",
   "name": "python",
   "nbconvert_exporter": "python",
   "pygments_lexer": "ipython3",
   "version": "3.7.3"
  }
 },
 "nbformat": 4,
 "nbformat_minor": 2
}
